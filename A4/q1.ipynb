{
 "cells": [
  {
   "cell_type": "code",
   "execution_count": 1,
   "metadata": {},
   "outputs": [],
   "source": [
    "import numpy as np  \n",
    "from tqdm import tqdm\n",
    "import matplotlib.pyplot as plt\n",
    "\n",
    "\n",
    "NODATA, NOTPRESENT, MILD, SEVERE = -1, 0, 1, 2\n",
    "DS_VALUES = [NOTPRESENT, MILD, SEVERE]\n",
    "FALSE, TRUE = 0, 1\n",
    "\n",
    "class EM():\n",
    "    def __init__(self, P_DS, P_G, P_F_DS, P_D_DS, P_S_G_DS) -> None:\n",
    "        # priors:\n",
    "        self.P_DS = P_DS.copy()\n",
    "        self.P_G = P_G.copy()\n",
    "        self.P_F_DS = P_F_DS.copy()\n",
    "        self.P_D_DS = P_D_DS.copy()\n",
    "        self.P_S_G_DS = P_S_G_DS.copy()\n",
    "    \n",
    "    def randomize(self, delta):\n",
    "        self.P_DS += np.random.uniform(0, delta, size=self.P_DS.shape)\n",
    "        self.P_DS = self.P_DS / np.sum(self.P_DS)\n",
    "        self.P_G += np.random.uniform(0, delta, size=self.P_G.shape)\n",
    "        self.P_G = self.P_G / np.sum(self.P_G)\n",
    "        self.P_F_DS += np.random.uniform(0, delta, size=self.P_F_DS.shape)\n",
    "        self.P_F_DS /= np.sum(self.P_F_DS, axis=0, keepdims=True)\n",
    "        self.P_D_DS += np.random.uniform(0, delta, size=self.P_D_DS.shape)\n",
    "        self.P_D_DS /= np.sum(self.P_D_DS, axis=0, keepdims=True)\n",
    "        self.P_S_G_DS += np.random.uniform(0, delta, size=self.P_S_G_DS.shape)\n",
    "        self.P_S_G_DS /= np.sum(self.P_S_G_DS, axis=0, keepdims=True)\n",
    "\n",
    "\n",
    "    def train(self, data):\n",
    "        prev_weight = -1\n",
    "        while TRUE:\n",
    "            weights_over_data = np.zeros((len(data), len(DS_VALUES)))\n",
    "            normalized_weights_over_data = np.zeros((len(data), len(DS_VALUES)))\n",
    "            now_G = np.array([0.0,0.0])\n",
    "            now_DS = np.array([0.0,0.0,0.0])\n",
    "            now_G_DS = np.zeros(shape=(2, len(DS_VALUES)))\n",
    "            now_F_DS = np.zeros((2, len(DS_VALUES)))\n",
    "            now_D_DS = np.zeros(shape=(2, len(DS_VALUES)))\n",
    "            now_S_G_DS = np.zeros(shape=(2, 2, len(DS_VALUES)))\n",
    "            for index,  (s, f, d, g, ds) in enumerate(data):\n",
    "                if ds != NODATA:\n",
    "                    weights_over_data[index, ds] = 1\n",
    "                    normalized_weights_over_data[index, ds] = 1\n",
    "                else:\n",
    "                    for ds_value in DS_VALUES:\n",
    "                        weights_over_data[index, ds_value] = self.P_D_DS[d, ds_value] * self.P_F_DS[f, ds_value] * self.P_S_G_DS[s, g, ds_value] * self.P_G[g] * self.P_DS[ds_value]\n",
    "                \n",
    "                normalized_weights_over_data[index] = weights_over_data[index] / np.sum(weights_over_data[index])\n",
    "                now_G[g] += np.sum(normalized_weights_over_data[index])\n",
    "                now_DS += normalized_weights_over_data[index]\n",
    "                now_G_DS[g] += normalized_weights_over_data[index]\n",
    "                now_F_DS[f] += normalized_weights_over_data[index]\n",
    "                now_D_DS[d] += normalized_weights_over_data[index]\n",
    "                now_S_G_DS[s, g] += normalized_weights_over_data[index]\n",
    "            \n",
    "            total_weight = np.sum(weights_over_data)\n",
    "            total_normalized_weight = np.sum(normalized_weights_over_data)\n",
    "\n",
    "            if prev_weight != -1 and abs(total_weight - prev_weight) < 0.01:\n",
    "                break\n",
    "            prev_weight = total_weight\n",
    "            # Update priors\n",
    "            self.P_DS = now_DS / total_normalized_weight\n",
    "            self.P_G = now_G / total_normalized_weight\n",
    "            self.P_F_DS = now_F_DS / now_DS\n",
    "            self.P_D_DS = now_D_DS / now_DS\n",
    "            self.P_S_G_DS = now_S_G_DS / now_G_DS\n",
    "    \n",
    "    def predict(self, data):\n",
    "        accuracy = 0\n",
    "        for index,  (s, f, d, g, ds) in enumerate(data):\n",
    "            weights = np.zeros(len(DS_VALUES))\n",
    "            for ds_value in DS_VALUES:\n",
    "                weights[ds_value] = self.P_D_DS[d, ds_value] * self.P_F_DS[f, ds_value] * self.P_S_G_DS[s, g, ds_value] * self.P_G[g] * self.P_DS[ds_value]\n",
    "            pred = np.argmax(weights)\n",
    "            if pred == ds:\n",
    "                accuracy += 1\n",
    "        return accuracy / len(data)"
   ]
  },
  {
   "cell_type": "code",
   "execution_count": 2,
   "metadata": {},
   "outputs": [],
   "source": [
    "train_data = np.loadtxt(f\"traindata.txt\", delimiter=\" \", usecols=range(1,6)).astype(dtype=int)\n",
    "test_data = np.loadtxt(f\"testdata.txt\", delimiter=\" \", usecols=range(1,6)).astype(dtype=int)\n",
    "\n",
    "# Initialization\n",
    "P_DS = np.zeros(len(DS_VALUES))\n",
    "P_DS[NOTPRESENT] = 0.5\n",
    "P_DS[MILD] = 0.25\n",
    "P_DS[SEVERE] = 0.25\n",
    "\n",
    "P_G = np.zeros(2)\n",
    "P_G[FALSE] = 0.9\n",
    "P_G[TRUE] = 0.1\n",
    "\n",
    "P_F_DS = np.zeros((2, len(DS_VALUES)))\n",
    "P_F_DS[TRUE, NOTPRESENT] = 0.01\n",
    "P_F_DS[TRUE, MILD] = 0.95\n",
    "P_F_DS[TRUE, SEVERE] = 0.25\n",
    "P_F_DS[FALSE] = 1 - P_F_DS[TRUE]\n",
    "\n",
    "P_D_DS = np.zeros((2, len(DS_VALUES)))\n",
    "P_D_DS[TRUE, NOTPRESENT] = 0.01\n",
    "P_D_DS[TRUE, MILD] = 0.3\n",
    "P_D_DS[TRUE, SEVERE] = 0.95\n",
    "P_D_DS[FALSE] = 1 - P_D_DS[TRUE]\n",
    "\n",
    "P_S_G_DS = np.zeros((2, 2, len(DS_VALUES)))\n",
    "P_S_G_DS[TRUE, TRUE, NOTPRESENT] = 0.01\n",
    "P_S_G_DS[TRUE, TRUE, MILD] = 0.01\n",
    "P_S_G_DS[TRUE, TRUE, SEVERE] = 0.01\n",
    "P_S_G_DS[TRUE, FALSE, NOTPRESENT] = 0.02\n",
    "P_S_G_DS[TRUE, FALSE, MILD] = 0.7\n",
    "P_S_G_DS[TRUE, FALSE, SEVERE] = 0.7\n",
    "P_S_G_DS[FALSE] = 1 - P_S_G_DS[TRUE]\n"
   ]
  },
  {
   "cell_type": "code",
   "execution_count": 3,
   "metadata": {},
   "outputs": [
    {
     "name": "stderr",
     "output_type": "stream",
     "text": [
      " 12%|█▎        | 5/40 [02:41<18:47, 32.22s/it]\n"
     ]
    }
   ],
   "source": [
    "TRIALS = 20\n",
    "STEP = 0.1\n",
    "plot_data_before_EM = []\n",
    "plot_data = []\n",
    "for delta in tqdm(np.arange(0, 4, STEP)):\n",
    "    single_data_before_EM = [0 for _ in range(TRIALS)]\n",
    "    single_data = [0 for _ in range(TRIALS)]\n",
    "    for iter in range(TRIALS):\n",
    "        model = EM(P_DS, P_G, P_F_DS, P_D_DS, P_S_G_DS)\n",
    "        model.randomize(delta)\n",
    "        single_data_before_EM[iter] = model.predict(test_data)\n",
    "        model.train(train_data)\n",
    "        single_data[iter] = model.predict(test_data)\n",
    "    plot_data.append(single_data)\n",
    "    plot_data_before_EM.append(single_data_before_EM)"
   ]
  },
  {
   "cell_type": "code",
   "execution_count": null,
   "metadata": {},
   "outputs": [
    {
     "data": {
      "image/png": "[encoded data removed]",
      "text/plain": [
       "<Figure size 432x288 with 1 Axes>"
      ]
     },
     "metadata": {
      "needs_background": "light"
     },
     "output_type": "display_data"
    }
   ],
   "source": [
    "x = np.arange(0, 4, STEP)\n",
    "data = np.array(plot_data)\n",
    "y = np.mean(data, axis=1)\n",
    "err = np.std(data, axis=1)\n",
    "\n",
    "data_before_EM = np.array(plot_data_before_EM)\n",
    "y_before_EM = np.mean(data_before_EM, axis=1)\n",
    "err_before_EM = np.std(data_before_EM, axis=1)\n",
    "plt.errorbar(x, y, yerr=err, fmt='o', capsize=5)\n",
    "plt.errorbar(x, y_before_EM, yerr=err_before_EM, fmt='o', capsize=5)\n",
    "plt.ylabel(\"Accuracy\")\n",
    "plt.xlabel(\"Delta\")\n",
    "plt.legend([\"After EM\", \"Before EM\"], loc=\"lower left\")\n",
    "plt.title(\"Test Accuracy v.s Delta Value for Before and After EM\")\n",
    "plt.savefig(\"EM_accuracy.png\")\n",
    "plt.show()"
   ]
  }
 ],
 "metadata": {
  "kernelspec": {
   "display_name": "Python 3.10.4 64-bit",
   "language": "python",
   "name": "python3"
  },
  "language_info": {
   "codemirror_mode": {
    "name": "ipython",
    "version": 3
   },
   "file_extension": ".py",
   "mimetype": "text/x-python",
   "name": "python",
   "nbconvert_exporter": "python",
   "pygments_lexer": "ipython3",
   "version": "3.10.4"
  },
  "orig_nbformat": 4,
  "vscode": {
   "interpreter": {
    "hash": "1f8e04c1004ae0e48c4c128aee02bb34a41f967cffe60616a1dbeccdbed98bf0"
   }
  }
 },
 "nbformat": 4,
 "nbformat_minor": 2
}
