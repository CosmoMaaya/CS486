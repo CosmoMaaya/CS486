{
 "cells": [
  {
   "cell_type": "code",
   "execution_count": 2,
   "metadata": {},
   "outputs": [],
   "source": [
    "import numpy as np"
   ]
  },
  {
   "cell_type": "code",
   "execution_count": 3,
   "metadata": {},
   "outputs": [
    {
     "data": {
      "text/plain": [
       "(array([0, 0, 1], dtype=int64), array([0, 1, 0], dtype=int64))"
      ]
     },
     "execution_count": 3,
     "metadata": {},
     "output_type": "execute_result"
    }
   ],
   "source": [
    "k = np.zeros((5, 5))\n",
    "\n",
    "indices = ([0, 0, 1], [0, 1, 0])\n",
    "k[indices] = 1\n",
    "\n",
    "# k[0, 1] = 1\n",
    "# k[0, 0] = 1\n",
    "# k[1, 0] = 1\n",
    "\n",
    "k.nonzero()"
   ]
  },
  {
   "cell_type": "code",
   "execution_count": 4,
   "metadata": {},
   "outputs": [
    {
     "data": {
      "text/plain": [
       "array([[[0, 0, 0, 0, 0],\n",
       "        [1, 1, 1, 1, 1],\n",
       "        [2, 2, 2, 2, 2],\n",
       "        [3, 3, 3, 3, 3],\n",
       "        [4, 4, 4, 4, 4]],\n",
       "\n",
       "       [[0, 1, 2, 3, 4],\n",
       "        [0, 1, 2, 3, 4],\n",
       "        [0, 1, 2, 3, 4],\n",
       "        [0, 1, 2, 3, 4],\n",
       "        [0, 1, 2, 3, 4]]])"
      ]
     },
     "execution_count": 4,
     "metadata": {},
     "output_type": "execute_result"
    }
   ],
   "source": [
    "np.indices(k.shape)"
   ]
  },
  {
   "cell_type": "code",
   "execution_count": 8,
   "metadata": {},
   "outputs": [],
   "source": [
    "UP = np.array([-1, 0])\n",
    "DOWN = np.array([1, 0])\n",
    "LEFT = np.array([0, -1])\n",
    "RIGHT = np.array([0, 1])\n",
    "\n",
    "MOVING_ACTIONS = np.array([UP, DOWN, LEFT, RIGHT])\n",
    "\n",
    "GRID_EMPTY = 0\n",
    "GRID_WALL = 1\n",
    "GRID_PRIZE = 8\n",
    "\n",
    "FOUR_ROOM = ([0, 2, 2, 2, 2, 4], [2, 0, 1, 3, 4, 2])\n",
    "# ((0, 2), (2, 0), (2, 1), (2, 3), (2, 4), (4, 2))\n",
    "MAZE = ([1, 1, 1, 2, 3, 4, 4, 4, 4], [1, 2, 3, 3, 1, 1, 2, 3, 4,])\n",
    "# ((1, 1), (1, 2), (1, 3), (2, 3), (3, 1), (4, 1), (4, 2), (4, 3), (4, 4))\n",
    "EMPTY = None\n",
    "\n",
    "class Grid():\n",
    "    def __init__(self, maze_type):\n",
    "        self.grid = np.zeros((5,5))\n",
    "        self.position = np.array([2,2])\n",
    "        if maze_type != EMPTY:\n",
    "            self.grid[maze_type] = GRID_WALL\n",
    "        self.prize_location = self.__random_init_prize()\n",
    "\n",
    "    def __random_init_prize(self):\n",
    "        prize_location_choices = [(i, j) for i in range(5) for j in range(5) if self.grid[i, j] == GRID_EMPTY and (i, j) != (2, 2)]\n",
    "        prize_idx = np.random.randint(len(prize_location_choices))\n",
    "        self.grid[prize_location_choices[prize_idx]] = GRID_PRIZE\n",
    "        return prize_location_choices[prize_idx]\n",
    "\n",
    "    def move(self, direction):\n",
    "        self.position += direction\n",
    "        if (self.position >= 5).any() or (self.position < 0).any() or self.grid[self.position] == GRID_WALL:\n",
    "            self.position -= direction\n",
    "            return 0, self.position\n",
    "\n",
    "        if self.grid[self.position] == GRID_PRIZE:\n",
    "            return 1, self.position\n",
    "        \n",
    "        return 0, self.position\n",
    "    \n",
    "    def print_grid(self):\n",
    "        for i in range(5):\n",
    "            for j in range(5):\n",
    "                if self.grid[i, j] == GRID_WALL:\n",
    "                    print('#', end=' ')\n",
    "                elif self.grid[i, j] == GRID_PRIZE:\n",
    "                    print('P', end=' ')\n",
    "                elif i == self.position[0] and j == self.position[1]:\n",
    "                    print('*', end=' ')\n",
    "                else:\n",
    "                    print('O', end=' ')\n",
    "            print()\n",
    "    \n",
    "    def restart(self):\n",
    "        self.position = np.array([2,2])\n",
    "        self.grid[self.prize_location] = GRID_EMPTY\n",
    "        self.prize_location = self.__random_init_prize()"
   ]
  },
  {
   "cell_type": "code",
   "execution_count": 6,
   "metadata": {},
   "outputs": [
    {
     "name": "stdout",
     "output_type": "stream",
     "text": [
      "True\n"
     ]
    }
   ],
   "source": [
    "pos = np.array([3,2])\n",
    "if (pos > 2).any():\n",
    "    print(\"True\")"
   ]
  },
  {
   "cell_type": "code",
   "execution_count": 11,
   "metadata": {},
   "outputs": [
    {
     "name": "stdout",
     "output_type": "stream",
     "text": [
      "O O # O O \n",
      "O P O O O \n",
      "# # * # # \n",
      "O O O O O \n",
      "O O # O O \n",
      "\n",
      "O O # O O \n",
      "O P O O O \n",
      "# # * # # \n",
      "O O O O O \n",
      "O O # O O \n",
      "\n",
      "O O # O O \n",
      "O O O O O \n",
      "# # * # # \n",
      "O O P O O \n",
      "O O # O O \n"
     ]
    }
   ],
   "source": [
    "g = Grid(FOUR_ROOM)\n",
    "g.print_grid()\n",
    "print()\n",
    "g.restart()\n",
    "g.print_grid()\n",
    "print()\n",
    "g.restart()\n",
    "g.print_grid()"
   ]
  },
  {
   "cell_type": "code",
   "execution_count": 14,
   "metadata": {},
   "outputs": [
    {
     "data": {
      "text/plain": [
       "0"
      ]
     },
     "execution_count": 14,
     "metadata": {},
     "output_type": "execute_result"
    }
   ],
   "source": [
    "Q = np.zeros((5, 5, 4, 4))\n",
    "Q[2,2,3,2] = 1\n",
    "Q[2,2,3,1] = 2\n",
    "Q[2,2,3,0] = 3\n",
    "\n",
    "np.argmax(Q[(2,2,3)])"
   ]
  },
  {
   "cell_type": "code",
   "execution_count": 81,
   "metadata": {},
   "outputs": [],
   "source": [
    "NUM_SYMBOLS = 25\n",
    "DISCOUNT = 0.9\n",
    "TERMINATION_PROB = 0.1\n",
    "\n",
    "class Sender():\n",
    "    def __init__(grid, num_symbols, learning_rate):\n",
    "        self.grid = grid\n",
    "        self.Q = np.zeros((5, 5, num_symbols, len(MOVING_ACTIONS)))\n",
    "        self.current_state = [2, 2, -1]\n",
    "        self.learning_rate = learning_rate\n",
    "        \n",
    "    def receive_message(self, message):\n",
    "        self.current_state[2] = message\n",
    "        \n",
    "        while True:\n",
    "            action_idx = self.select_action()\n",
    "            reward, new_position = grid.move(MOVING_ACTIONS[action_idx])\n",
    "            self.new_state = [new_position[0], new_position[1], message]\n",
    "            self.Q[self.current_state][action_idx] = (1 - self.learning_rate) * self.Q[self.current_state][action_idx] + self.learning_rate * (reward + DISCOUNT * np.max(self.Q[self.new_state]))\n",
    "            self.current_state = self.new_state\n",
    "\n",
    "            # termination condition\n",
    "            if np.random.random() < TERMINATION_PROB or reward == 1:\n",
    "                break\n",
    "    def select_action(self, eps):\n",
    "        # Eps: probability to explore\n",
    "        if np.random.random() < eps:\n",
    "            return np.random.randint(len(MOVING_ACTIONS))\n",
    "        else:\n",
    "            return np.argmax(self.Q[self.current_state])\n",
    "\n",
    "class Receiver():\n",
    "    def __init__(grid, num_symbols):\n",
    "        self.grid = grid\n",
    "        self.Q = np.zeros((num_symbols, len(MOVING_ACTIONS)))\n",
    "\n",
    "        pass"
   ]
  },
  {
   "cell_type": "code",
   "execution_count": null,
   "metadata": {},
   "outputs": [],
   "source": []
  }
 ],
 "metadata": {
  "kernelspec": {
   "display_name": "Python 3.10.4 64-bit",
   "language": "python",
   "name": "python3"
  },
  "language_info": {
   "codemirror_mode": {
    "name": "ipython",
    "version": 3
   },
   "file_extension": ".py",
   "mimetype": "text/x-python",
   "name": "python",
   "nbconvert_exporter": "python",
   "pygments_lexer": "ipython3",
   "version": "3.10.4"
  },
  "orig_nbformat": 4,
  "vscode": {
   "interpreter": {
    "hash": "1f8e04c1004ae0e48c4c128aee02bb34a41f967cffe60616a1dbeccdbed98bf0"
   }
  }
 },
 "nbformat": 4,
 "nbformat_minor": 2
}
