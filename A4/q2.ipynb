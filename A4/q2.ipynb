{
 "cells": [
  {
   "cell_type": "code",
   "execution_count": 1,
   "metadata": {},
   "outputs": [],
   "source": [
    "import numpy as np\n",
    "import matplotlib.pyplot as plt\n",
    "from tqdm import tqdm"
   ]
  },
  {
   "cell_type": "code",
   "execution_count": 2,
   "metadata": {},
   "outputs": [
    {
     "data": {
      "text/plain": [
       "(array([0, 0, 0, 0, 0, 0, 0, 0, 0, 0, 0, 0, 1, 1, 1, 1, 1, 1, 1],\n",
       "       dtype=int64),\n",
       " array([0, 0, 0, 0, 0, 0, 1, 1, 1, 1, 1, 1, 0, 0, 0, 0, 0, 0, 2],\n",
       "       dtype=int64),\n",
       " array([0, 1, 2, 3, 4, 5, 0, 1, 2, 3, 4, 5, 0, 1, 2, 3, 4, 5, 3],\n",
       "       dtype=int64))"
      ]
     },
     "execution_count": 2,
     "metadata": {},
     "output_type": "execute_result"
    }
   ],
   "source": [
    "k = np.zeros((5, 5, 6))\n",
    "\n",
    "indices = ([0, 0, 1], [0, 1, 0])\n",
    "k[indices] = 1\n",
    "k[(1,2,3)] = 1\n",
    "\n",
    "# k[0, 1] = 1\n",
    "# k[0, 0] = 1\n",
    "# k[1, 0] = 1\n",
    "\n",
    "k.nonzero()"
   ]
  },
  {
   "cell_type": "code",
   "execution_count": 3,
   "metadata": {},
   "outputs": [
    {
     "data": {
      "text/plain": [
       "array([[[1., 1., 1., 1., 1., 1.],\n",
       "        [1., 1., 1., 1., 1., 1.],\n",
       "        [0., 0., 0., 0., 0., 0.],\n",
       "        [0., 0., 0., 0., 0., 0.],\n",
       "        [0., 0., 0., 0., 0., 0.]],\n",
       "\n",
       "       [[1., 1., 1., 1., 1., 1.],\n",
       "        [0., 0., 0., 0., 0., 0.],\n",
       "        [0., 0., 0., 1., 0., 0.],\n",
       "        [0., 0., 0., 0., 0., 0.],\n",
       "        [0., 0., 0., 0., 0., 0.]],\n",
       "\n",
       "       [[0., 0., 0., 0., 0., 0.],\n",
       "        [0., 0., 0., 0., 0., 0.],\n",
       "        [0., 0., 0., 0., 0., 0.],\n",
       "        [0., 0., 0., 0., 0., 0.],\n",
       "        [0., 0., 0., 0., 0., 0.]],\n",
       "\n",
       "       [[0., 0., 0., 0., 0., 0.],\n",
       "        [0., 0., 0., 0., 0., 0.],\n",
       "        [0., 0., 0., 0., 0., 0.],\n",
       "        [0., 0., 0., 0., 0., 0.],\n",
       "        [0., 0., 0., 0., 0., 0.]],\n",
       "\n",
       "       [[0., 0., 0., 0., 0., 0.],\n",
       "        [0., 0., 0., 0., 0., 0.],\n",
       "        [0., 0., 0., 0., 0., 0.],\n",
       "        [0., 0., 0., 0., 0., 0.],\n",
       "        [0., 0., 0., 0., 0., 0.]]])"
      ]
     },
     "execution_count": 3,
     "metadata": {},
     "output_type": "execute_result"
    }
   ],
   "source": [
    "k"
   ]
  },
  {
   "cell_type": "code",
   "execution_count": 4,
   "metadata": {},
   "outputs": [
    {
     "data": {
      "text/plain": [
       "1.0"
      ]
     },
     "execution_count": 4,
     "metadata": {},
     "output_type": "execute_result"
    }
   ],
   "source": [
    "k[(1,2,3)]"
   ]
  },
  {
   "cell_type": "code",
   "execution_count": 5,
   "metadata": {},
   "outputs": [
    {
     "name": "stdout",
     "output_type": "stream",
     "text": [
      "→\n"
     ]
    }
   ],
   "source": [
    "print('\\u2192')"
   ]
  },
  {
   "cell_type": "code",
   "execution_count": 6,
   "metadata": {},
   "outputs": [],
   "source": [
    "UP = np.array([-1, 0])\n",
    "DOWN = np.array([1, 0])\n",
    "LEFT = np.array([0, -1])\n",
    "RIGHT = np.array([0, 1])\n",
    "\n",
    "MOVING_ACTIONS = np.array([LEFT, UP, RIGHT, DOWN])\n",
    "ACTION_PRINT = ['\\u2190', '\\u2191', '\\u2192', '\\u2193']\n",
    "\n",
    "GRID_EMPTY = 0\n",
    "GRID_WALL = 1\n",
    "GRID_PRIZE = 8\n",
    "\n",
    "FOUR_ROOM = ([0, 2, 2, 2, 2, 4], [2, 0, 1, 3, 4, 2])\n",
    "# ((0, 2), (2, 0), (2, 1), (2, 3), (2, 4), (4, 2))\n",
    "MAZE = ([1, 1, 1, 2, 3, 4, 4, 4, 4], [1, 2, 3, 3, 1, 1, 2, 3, 4,])\n",
    "# ((1, 1), (1, 2), (1, 3), (2, 3), (3, 1), (4, 1), (4, 2), (4, 3), (4, 4))\n",
    "EMPTY = None\n",
    "\n",
    "class Grid():\n",
    "    def __init__(self, maze_type):\n",
    "        self.grid = np.zeros((5,5))\n",
    "        self.position = np.array([2,2])\n",
    "        if maze_type != EMPTY:\n",
    "            self.grid[maze_type] = GRID_WALL\n",
    "        self.prize_location = self.__random_init_prize()\n",
    "\n",
    "    def __random_init_prize(self):\n",
    "        prize_location_choices = [(i, j) for i in range(5) for j in range(5) if self.grid[i, j] == GRID_EMPTY and (i, j) != (2, 2)]\n",
    "        prize_idx = np.random.randint(len(prize_location_choices))\n",
    "        self.grid[prize_location_choices[prize_idx]] = GRID_PRIZE\n",
    "        return tuple(prize_location_choices[prize_idx])\n",
    "\n",
    "    def move(self, direction):\n",
    "        self.position += direction\n",
    "        if (self.position >= 5).any() or (self.position < 0).any() or self.grid[tuple(self.position)] == GRID_WALL:\n",
    "            self.position -= direction\n",
    "            return 0, self.position\n",
    "\n",
    "        if self.grid[tuple(self.position)] == GRID_PRIZE:\n",
    "            return 1, self.position\n",
    "        \n",
    "        return 0, self.position\n",
    "    \n",
    "    def print_grid(self):\n",
    "        for i in range(5):\n",
    "            for j in range(5):\n",
    "                if self.grid[i, j] == GRID_WALL:\n",
    "                    print('#', end=' ')\n",
    "                elif self.grid[i, j] == GRID_PRIZE:\n",
    "                    print('P', end=' ')\n",
    "                elif i == self.position[0] and j == self.position[1]:\n",
    "                    print('*', end=' ')\n",
    "                else:\n",
    "                    print('O', end=' ')\n",
    "            print()\n",
    "    \n",
    "    def restart(self):\n",
    "        self.position = np.array([2,2])\n",
    "        self.grid[self.prize_location] = GRID_EMPTY\n",
    "        self.prize_location = self.__random_init_prize()"
   ]
  },
  {
   "cell_type": "code",
   "execution_count": 80,
   "metadata": {},
   "outputs": [
    {
     "name": "stdout",
     "output_type": "stream",
     "text": [
      "[[  9936.  10015.   9973.  10157.  10065.]\n",
      " [  9824.  10014.  10181.  10020.  10054.]\n",
      " [ 10076.  10000. 240000.  10068.  10211.]\n",
      " [  9943.  10018.   9993.   9916.   9844.]\n",
      " [  9917.   9872.   9895.  10037.   9971.]]\n"
     ]
    }
   ],
   "source": [
    "g = Grid(EMPTY)\n",
    "appearance = np.zeros((5,5))\n",
    "for _ in range(240000):\n",
    "    g.restart()\n",
    "    appearance[g.prize_location] += 1\n",
    "    appearance[tuple(g.position)] += 1\n",
    "\n",
    "print(appearance)\n",
    "    "
   ]
  },
  {
   "cell_type": "code",
   "execution_count": 11,
   "metadata": {},
   "outputs": [
    {
     "name": "stdout",
     "output_type": "stream",
     "text": [
      "True\n"
     ]
    }
   ],
   "source": [
    "pos = np.array([3,2])\n",
    "if (pos > 2).any():\n",
    "    print(\"True\")"
   ]
  },
  {
   "cell_type": "code",
   "execution_count": 12,
   "metadata": {},
   "outputs": [
    {
     "name": "stdout",
     "output_type": "stream",
     "text": [
      "O O # O O \n",
      "O O O O O \n",
      "# # * # # \n",
      "O O O O O \n",
      "O O # P O \n",
      "\n",
      "(0, array([1, 2]))\n",
      "O O # O O \n",
      "O O * O O \n",
      "# # O # # \n",
      "O O O O O \n",
      "O O # P O \n",
      "\n",
      "(0, array([2, 2]))\n",
      "O O # O O \n",
      "O O O O O \n",
      "# # * # # \n",
      "O O O O O \n",
      "O O # P O \n",
      "\n",
      "(0, array([2, 2]))\n",
      "O O # O O \n",
      "O O O O O \n",
      "# # * # # \n",
      "O O O O O \n",
      "O O # P O \n",
      "\n",
      "(0, array([2, 2]))\n",
      "O O # O O \n",
      "O O O O O \n",
      "# # * # # \n",
      "O O O O O \n",
      "O O # P O \n",
      "\n",
      "(0, array([3, 2]))\n",
      "O O # O O \n",
      "O O O O O \n",
      "# # O # # \n",
      "O O * O O \n",
      "O O # P O \n",
      "\n",
      "(0, array([3, 1]))\n",
      "O O # O O \n",
      "O O O O O \n",
      "# # O # # \n",
      "O * O O O \n",
      "O O # P O \n",
      "\n",
      "(0, array([3, 2]))\n",
      "O O # O O \n",
      "O O O O O \n",
      "# # O # # \n",
      "O O * O O \n",
      "O O # P O \n",
      "\n"
     ]
    }
   ],
   "source": [
    "g = Grid(FOUR_ROOM)\n",
    "g.print_grid()\n",
    "print()\n",
    "instructions = [UP, DOWN, LEFT, RIGHT, DOWN, LEFT, RIGHT]\n",
    "for i in instructions:\n",
    "    print(g.move(i))\n",
    "    g.print_grid()\n",
    "    print()"
   ]
  },
  {
   "cell_type": "code",
   "execution_count": 13,
   "metadata": {},
   "outputs": [
    {
     "data": {
      "text/plain": [
       "0"
      ]
     },
     "execution_count": 13,
     "metadata": {},
     "output_type": "execute_result"
    }
   ],
   "source": [
    "Q = np.zeros((5, 5, 4, 4))\n",
    "Q[2,2,3,2] = 1\n",
    "Q[2,2,3,1] = 2\n",
    "Q[2,2,3,0] = 3\n",
    "\n",
    "np.argmax(Q[(2,2,3)])"
   ]
  },
  {
   "cell_type": "code",
   "execution_count": 14,
   "metadata": {},
   "outputs": [],
   "source": [
    "NUM_SYMBOLS = 25\n",
    "DISCOUNT = 0.95\n",
    "TERMINATION_PROB = 0.05\n",
    "\n",
    "\n",
    "class Receiver():\n",
    "    def __init__(self, grid, num_symbols):\n",
    "        self.grid = grid\n",
    "        self.Q = np.zeros((5, 5, num_symbols, len(MOVING_ACTIONS)))\n",
    "        self.current_state = (2, 2, -1)\n",
    "        \n",
    "    def start_learning(self, message, learning_rate, eps):\n",
    "        self.current_state = (self.grid.position[0], self.grid.position[1], message)\n",
    "        count = 0\n",
    "        while True:\n",
    "            action_idx = self.select_action(eps)\n",
    "            reward, new_position = self.grid.move(MOVING_ACTIONS[action_idx])\n",
    "            new_state = (new_position[0], new_position[1], message)\n",
    "            if reward == 1:\n",
    "                self.Q[self.current_state][action_idx] = (1 - learning_rate) * self.Q[self.current_state][action_idx] + learning_rate * reward\n",
    "            else:\n",
    "                self.Q[self.current_state][action_idx] = (1 - learning_rate) * self.Q[self.current_state][action_idx] + learning_rate * DISCOUNT * np.max(self.Q[new_state])\n",
    "            self.current_state = new_state\n",
    "            count += 1\n",
    "            # termination condition\n",
    "            if np.random.random() < TERMINATION_PROB or reward == 1:\n",
    "                return reward, np.power(DISCOUNT, count) * reward\n",
    "\n",
    "    def select_action(self, eps):\n",
    "        # Eps: probability to explore\n",
    "        if np.random.random() < eps:\n",
    "            return np.random.randint(len(MOVING_ACTIONS))\n",
    "        else:\n",
    "            # return np.random.choice(np.flatnonzero(self.Q[self.current_state] == self.Q[self.current_state].max()))\n",
    "            return np.argmax(self.Q[self.current_state])\n",
    "    \n",
    "    def print_action(self):\n",
    "        print(\"\\t a \\t b \\t c \\t d \\t e\")\n",
    "        for msg in range(NUM_SYMBOLS):\n",
    "            print(f\"Actions for message {msg}\")\n",
    "            q = self.Q[:,:,msg]\n",
    "            for i, row in enumerate(q):\n",
    "                print(f\"{i} \\t\", end='')\n",
    "                for action_idx in row:\n",
    "                    print(f\"{ACTION_PRINT[action_idx]} \\t\", end='')\n",
    "                print()\n",
    "\n",
    "class Sender():\n",
    "    def __init__(self, grid, num_symbols):\n",
    "        self.grid = grid\n",
    "        self.Q = np.zeros((5, 5, num_symbols))\n",
    "        self.num_symbols = num_symbols\n",
    "        self.receiver = Receiver(grid, num_symbols)\n",
    "\n",
    "    def start_learning(self, eps, N_episodes):\n",
    "        self.grid.restart()\n",
    "        self.current_state = self.grid.prize_location\n",
    "        learning_rate = 0.9\n",
    "        received_reward = 0\n",
    "        for i in range(N_episodes):\n",
    "            action_message = self.select_action(eps)\n",
    "            reward, receiver_discounted_reward = self.receiver.start_learning(action_message, learning_rate, eps)\n",
    "            # print(reward)\n",
    "            # self.grid.print_grid()\n",
    "            self.grid.restart()\n",
    "            new_state = self.grid.prize_location\n",
    "            self.Q[self.current_state][action_message] = (1 - learning_rate) * self.Q[self.current_state][action_message] + learning_rate * reward\n",
    "            self.current_state = new_state\n",
    "            learning_rate -= (0.9 - 0.01) / N_episodes\n",
    "            received_reward += receiver_discounted_reward\n",
    "            \n",
    "        return received_reward / N_episodes\n",
    "\n",
    "    def select_action(self, eps):\n",
    "        # Eps: probability to explore\n",
    "        if np.random.random() < eps:\n",
    "            return np.random.randint(self.num_symbols)\n",
    "        else:\n",
    "            # return np.random.choice(np.flatnonzero(self.Q[self.current_state] == self.Q[self.current_state].max()))\n",
    "            return np.argmax(self.Q[self.current_state])"
   ]
  },
  {
   "cell_type": "code",
   "execution_count": 19,
   "metadata": {},
   "outputs": [
    {
     "name": "stderr",
     "output_type": "stream",
     "text": [
      "100%|██████████| 10/10 [00:53<00:00,  5.40s/it]"
     ]
    },
    {
     "name": "stdout",
     "output_type": "stream",
     "text": [
      "0.75600670612254\n",
      "0.011031296735956706\n"
     ]
    },
    {
     "name": "stderr",
     "output_type": "stream",
     "text": [
      "\n"
     ]
    }
   ],
   "source": [
    "\n",
    "\n",
    "rewards = []\n",
    "senders = []\n",
    "for i in tqdm(range(10)):\n",
    "    g = Grid(FOUR_ROOM)\n",
    "    sender = Sender(g, 4)\n",
    "    sender.start_learning(0.1, 50000)\n",
    "    rewards.append(sender.start_learning(0, 1000))\n",
    "    senders.append(sender)\n",
    "\n",
    "print(np.mean(rewards))\n",
    "print(np.std(rewards))\n",
    "\n"
   ]
  },
  {
   "cell_type": "code",
   "execution_count": 20,
   "metadata": {},
   "outputs": [
    {
     "data": {
      "image/png": "[encoded data removed]",
      "text/plain": [
       "<Figure size 432x288 with 1 Axes>"
      ]
     },
     "metadata": {
      "needs_background": "light"
     },
     "output_type": "display_data"
    }
   ],
   "source": [
    "plt.errorbar(0, np.mean(rewards), yerr=np.std(rewards), fmt='o', capsize=5)\n",
    "plt.ylabel(\"Average discounted reward\")\n",
    "plt.xlabel(\"N_ep\")\n",
    "plt.title(f\"Receiver's Average Discounted Reward for Epsilon = {eps}\")\n",
    "plt.savefig(f\"Receiver's Average Discounted Reward for Epsilon = {eps}.png\")\n",
    "plt.show()"
   ]
  },
  {
   "cell_type": "code",
   "execution_count": null,
   "metadata": {},
   "outputs": [],
   "source": [
    "NEPs = [10, 1000, 50000]\n",
    "EPSs = [0.1, 0.4]\n",
    "\n",
    "rewards_10 = np.zeros((10, len(EPSs), len(NEPs)))\n",
    "senders_10 = [[[None for _ in NEPs] for _ in EPSs] for _ in range(10)]\n",
    "for i in tqdm(range(10)):\n",
    "    for e_idx, eps in enumerate(EPSs):\n",
    "        for n_idx, n_episodes in enumerate(NEPs):\n",
    "            g = Grid(FOUR_ROOM)\n",
    "            sender = Sender(g, 4)\n",
    "            sender.start_learning(eps, n_episodes)\n",
    "            rewards_10[i, e_idx, n_idx] = sender.start_learning(0, 1000)\n",
    "            senders_10[i][e_idx][n_idx] = sender\n",
    "            print(f\"eps = {eps}, n_episodes = {n_episodes}, reward = {rewards_10[i, e_idx, n_idx]}\")"
   ]
  },
  {
   "cell_type": "code",
   "execution_count": 32,
   "metadata": {},
   "outputs": [
    {
     "name": "stdout",
     "output_type": "stream",
     "text": [
      "[0.75634671 0.755128   0.77014688 0.7610679  0.75280782 0.75298989\n",
      " 0.76259108 0.74529449 0.74879554 0.75744699]\n"
     ]
    }
   ],
   "source": [
    "print(rewards_10[:,0,-1])"
   ]
  },
  {
   "cell_type": "code",
   "execution_count": 33,
   "metadata": {},
   "outputs": [
    {
     "name": "stdout",
     "output_type": "stream",
     "text": [
      "[0.4975768  0.76243536 0.703226   0.69775753 0.67791438 0.68372002\n",
      " 0.48816167 0.68425733 0.72446163 0.76304965]\n"
     ]
    }
   ],
   "source": [
    "print(rewards_10[:,1,-1])"
   ]
  },
  {
   "cell_type": "code",
   "execution_count": 39,
   "metadata": {},
   "outputs": [
    {
     "data": {
      "image/png": "[encoded data removed]",
      "text/plain": [
       "<Figure size 432x288 with 1 Axes>"
      ]
     },
     "metadata": {
      "needs_background": "light"
     },
     "output_type": "display_data"
    },
    {
     "data": {
      "image/png": "[encoded data removed]",
      "text/plain": [
       "<Figure size 432x288 with 1 Axes>"
      ]
     },
     "metadata": {
      "needs_background": "light"
     },
     "output_type": "display_data"
    }
   ],
   "source": [
    "y = np.mean(rewards_10, axis=0)\n",
    "err = np.std(rewards_10, axis=0)\n",
    "# plt.errorbar(x, [y, y_before_EM], yerr=[err, err_before_EM], fmt='o')\n",
    "for i, eps in enumerate(EPSs):\n",
    "    plt.errorbar(np.log10(NEPs), y[i], yerr=err[i], fmt='o', capsize=5, linestyle='-')\n",
    "    plt.ylabel(\"Average discounted reward\")\n",
    "    plt.xlabel(\"N_ep\")\n",
    "    plt.title(f\"Receiver's Average Discounted Reward for Epsilon = {eps}\")\n",
    "    plt.savefig(f\"Receiver's Average Discounted Reward for Epsilon = {eps}.png\")\n",
    "    plt.show()"
   ]
  },
  {
   "cell_type": "code",
   "execution_count": 41,
   "metadata": {},
   "outputs": [
    {
     "name": "stderr",
     "output_type": "stream",
     "text": [
      "100%|██████████| 10/10 [15:54<00:00, 95.44s/it]\n"
     ]
    }
   ],
   "source": [
    "NEPs = [10, 100, 1000, 10000, 50000, 100000]\n",
    "EPSs = [0.01, 0.1, 0.4]\n",
    "\n",
    "rewards_10 = np.zeros((10, len(EPSs), len(NEPs)))\n",
    "senders_10 = [[[None for _ in NEPs] for _ in EPSs] for _ in range(10)]\n",
    "for i in tqdm(range(10)):\n",
    "    for e_idx, eps in enumerate(EPSs):\n",
    "        for n_idx, n_episodes in enumerate(NEPs):\n",
    "            g = Grid(FOUR_ROOM)\n",
    "            sender = Sender(g, 4)\n",
    "            sender.start_learning(eps, n_episodes)\n",
    "            rewards_10[i, e_idx, n_idx] = sender.start_learning(0, 1000)\n",
    "            senders_10[i][e_idx][n_idx] = sender"
   ]
  },
  {
   "cell_type": "code",
   "execution_count": 42,
   "metadata": {},
   "outputs": [
    {
     "data": {
      "image/png": "[encoded data removed]",
      "text/plain": [
       "<Figure size 432x288 with 1 Axes>"
      ]
     },
     "metadata": {
      "needs_background": "light"
     },
     "output_type": "display_data"
    },
    {
     "data": {
      "image/png": "[encoded data removed]",
      "text/plain": [
       "<Figure size 432x288 with 1 Axes>"
      ]
     },
     "metadata": {
      "needs_background": "light"
     },
     "output_type": "display_data"
    },
    {
     "data": {
      "image/png": "[encoded data removed]",
      "text/plain": [
       "<Figure size 432x288 with 1 Axes>"
      ]
     },
     "metadata": {
      "needs_background": "light"
     },
     "output_type": "display_data"
    }
   ],
   "source": [
    "y = np.mean(rewards_10, axis=0)\n",
    "err = np.std(rewards_10, axis=0)\n",
    "# plt.errorbar(x, [y, y_before_EM], yerr=[err, err_before_EM], fmt='o')\n",
    "for i, eps in enumerate(EPSs):\n",
    "    plt.errorbar(np.log10(NEPs), y[i], yerr=err[i], fmt='o', capsize=5, linestyle='-')\n",
    "    plt.ylabel(\"Average discounted reward\")\n",
    "    plt.xlabel(\"N_ep\")\n",
    "    plt.title(f\"Receiver's Average Discounted Reward for Epsilon = {eps}\")\n",
    "    plt.savefig(f\"Receiver's Average Discounted Reward for Epsilon = {eps}.png\")\n",
    "    plt.show()"
   ]
  },
  {
   "cell_type": "code",
   "execution_count": 163,
   "metadata": {},
   "outputs": [],
   "source": [
    "from multiprocessing import Pool\n",
    "\n",
    "def one_test():\n",
    "    NEPs = [10, 100, 1000, 10000, 50000, 100000]\n",
    "    EPSs = [0.01, 0.1, 0.4]\n",
    "\n",
    "    rewards = np.zeros((len(EPSs), len(NEPs)))\n",
    "    senders = [[None for _ in NEPs] for _ in EPSs]\n",
    "    for e_idx, eps in enumerate(EPSs):\n",
    "        for n_idx, n_episodes in enumerate(NEPs):\n",
    "            g = Grid(FOUR_ROOM)\n",
    "            sender = Sender(g, 4)\n",
    "            sender.start_learning(eps, n_episodes)\n",
    "            rewards[i, e_idx, n_idx] = sender.start_learning(0, 1000)\n",
    "            senders[i][e_idx][n_idx] = sender\n",
    "    return rewards, senders"
   ]
  },
  {
   "cell_type": "code",
   "execution_count": 164,
   "metadata": {},
   "outputs": [],
   "source": [
    "results = [None for _ in range(10)]\n",
    "\n",
    "with Pool() as pool:\n",
    "    results = pool.map(one_test, range(10))"
   ]
  },
  {
   "cell_type": "code",
   "execution_count": 162,
   "metadata": {},
   "outputs": [
    {
     "name": "stdout",
     "output_type": "stream",
     "text": [
      "[[1 1 0 0 0]\n",
      " [1 1 0 0 0]\n",
      " [0 0 0 0 0]\n",
      " [3 3 3 2 2]\n",
      " [3 3 0 2 2]]\n"
     ]
    }
   ],
   "source": [
    "print(np.argmax(senders[0][1][-1].Q, axis=2))"
   ]
  },
  {
   "cell_type": "code",
   "execution_count": 147,
   "metadata": {},
   "outputs": [
    {
     "name": "stdout",
     "output_type": "stream",
     "text": [
      "[[3 3 0 2 2]\n",
      " [3 3 3 2 2]\n",
      " [0 0 0 0 0]\n",
      " [1 1 1 0 0]\n",
      " [1 1 0 0 0]]\n"
     ]
    }
   ],
   "source": [
    "print(np.argmax(senders[4].Q, axis=2))"
   ]
  },
  {
   "cell_type": "code",
   "execution_count": 148,
   "metadata": {},
   "outputs": [
    {
     "name": "stdout",
     "output_type": "stream",
     "text": [
      "[[3 0 0 3 1]\n",
      " [2 2 3 0 0]\n",
      " [0 0 3 0 0]\n",
      " [2 2 2 2 3]\n",
      " [2 1 0 2 0]]\n"
     ]
    }
   ],
   "source": [
    "print(np.argmax(senders[4].receiver.Q, axis=3)[:,:,0])"
   ]
  },
  {
   "cell_type": "code",
   "execution_count": 28,
   "metadata": {},
   "outputs": [
    {
     "name": "stderr",
     "output_type": "stream",
     "text": [
      "C:\\Users\\KandaMaya\\AppData\\Local\\Temp\\ipykernel_14816\\2616776624.py:1: RuntimeWarning: divide by zero encountered in log\n",
      "  a = np.log(0)\n"
     ]
    },
    {
     "data": {
      "text/plain": [
       "1.0986122886681096"
      ]
     },
     "execution_count": 28,
     "metadata": {},
     "output_type": "execute_result"
    }
   ],
   "source": [
    "a = np.log(0)\n",
    "b = np.log(1)\n",
    "c = np.log(2)\n",
    "\n",
    "logsumexp([a, b, c]) - np.log10"
   ]
  },
  {
   "cell_type": "code",
   "execution_count": 55,
   "metadata": {},
   "outputs": [
    {
     "data": {
      "text/plain": [
       "0"
      ]
     },
     "execution_count": 55,
     "metadata": {},
     "output_type": "execute_result"
    }
   ],
   "source": [
    "k = np.array([0,0,-1,0,0,0])\n",
    "np.argmax(k)"
   ]
  },
  {
   "cell_type": "code",
   "execution_count": 56,
   "metadata": {},
   "outputs": [
    {
     "data": {
      "text/plain": [
       "4"
      ]
     },
     "execution_count": 56,
     "metadata": {},
     "output_type": "execute_result"
    }
   ],
   "source": [
    "np.random.choice(np.flatnonzero(k == k.max()))"
   ]
  },
  {
   "cell_type": "code",
   "execution_count": 57,
   "metadata": {},
   "outputs": [
    {
     "data": {
      "text/plain": [
       "array([ True,  True, False,  True,  True,  True])"
      ]
     },
     "execution_count": 57,
     "metadata": {},
     "output_type": "execute_result"
    }
   ],
   "source": [
    "k == k.max()"
   ]
  },
  {
   "cell_type": "code",
   "execution_count": 58,
   "metadata": {},
   "outputs": [
    {
     "data": {
      "text/plain": [
       "array([0, 1, 3, 4, 5], dtype=int64)"
      ]
     },
     "execution_count": 58,
     "metadata": {},
     "output_type": "execute_result"
    }
   ],
   "source": [
    "np.flatnonzero(k == k.max())"
   ]
  },
  {
   "cell_type": "code",
   "execution_count": 7,
   "metadata": {},
   "outputs": [],
   "source": [
    "DISCOUNT = 0.95\n",
    "TERMINATION_PROB = 0.05\n",
    "\n",
    "class Receiver():\n",
    "    def __init__(self, grid, num_symbols):\n",
    "        self.grid = grid\n",
    "        self.Q = np.zeros((5, 5, num_symbols, len(MOVING_ACTIONS)))\n",
    "        self.current_state = (2, 2, -1)\n",
    "        self.num_symbols = num_symbols\n",
    "        \n",
    "    def start_learning(self, message, learning_rate, eps):\n",
    "        # When start learning, the current state is the starting position of the grid. We let Sender to reset the grid.\n",
    "        self.current_state = (self.grid.position[0], self.grid.position[1], message)\n",
    "        while True:\n",
    "            action_idx = self.select_action(eps)\n",
    "            reward, new_position = self.grid.move(MOVING_ACTIONS[action_idx])\n",
    "            new_state = (new_position[0], new_position[1], message)\n",
    "            if reward == 1:\n",
    "                # No future reward in this case as we terminate the episode\n",
    "                self.Q[self.current_state][action_idx] = (1 - learning_rate) * self.Q[self.current_state][action_idx] + learning_rate * reward\n",
    "            else:\n",
    "                self.Q[self.current_state][action_idx] = (1 - learning_rate) * self.Q[self.current_state][action_idx] + learning_rate * DISCOUNT * np.max(self.Q[new_state])\n",
    "            self.current_state = new_state\n",
    "            # termination condition\n",
    "            if np.random.uniform(0, 1) < TERMINATION_PROB or reward == 1:\n",
    "                return reward\n",
    "    \n",
    "    def test(self, message):\n",
    "        self.current_state = (self.grid.position[0], self.grid.position[1], message)\n",
    "        count = 0\n",
    "        while True:\n",
    "            # we only exploit the best action\n",
    "            action_idx = self.select_action(0)\n",
    "            reward, new_position = self.grid.move(MOVING_ACTIONS[action_idx])\n",
    "            self.current_state = (new_position[0], new_position[1], message)\n",
    "            count += 1\n",
    "            if np.random.uniform(0, 1) < TERMINATION_PROB or reward == 1:\n",
    "                return reward, np.power(DISCOUNT, count) * reward\n",
    "\n",
    "    def select_action(self, eps):\n",
    "        # Eps: probability to explore\n",
    "        if np.random.uniform(0, 1) < eps:\n",
    "            return np.random.randint(len(MOVING_ACTIONS))\n",
    "        else:\n",
    "            # random tie breaking. useful for all zero position (in initialization)\n",
    "            return np.random.choice(np.flatnonzero(self.Q[self.current_state] == self.Q[self.current_state].max()))\n",
    "    \n",
    "    def print_action(self):\n",
    "        for msg in range(self.num_symbols):\n",
    "            print(f\"Actions for message {msg}\")\n",
    "            print(\"\\ta\\tb\\tc\\td\\te\")\n",
    "            q = self.Q[:,:,msg,:]\n",
    "            for i, row in enumerate(q):\n",
    "                print(f\"{i} \\t\", end='')\n",
    "                for j, col in enumerate(row):\n",
    "                    assert col.shape == (4,)\n",
    "                    if self.grid.grid[i, j] == GRID_WALL:\n",
    "                        print(\" \\t\", end='')\n",
    "                    else:\n",
    "                        idx = np.argmax(col)\n",
    "                        print(f\"{ACTION_PRINT[idx]} \\t\", end='')\n",
    "                print()\n",
    "\n",
    "class Sender():\n",
    "    def __init__(self, grid, num_symbols):\n",
    "        self.grid = grid\n",
    "        self.Q = np.zeros((5, 5, num_symbols))\n",
    "        self.num_symbols = num_symbols\n",
    "        self.receiver = Receiver(grid, num_symbols)\n",
    "\n",
    "    def start_learning(self, eps, N_episodes):\n",
    "        learning_rate = 0.9\n",
    "        for i in range(N_episodes):\n",
    "            # reset the grid for each episode\n",
    "            self.grid.restart()\n",
    "            self.current_state = self.grid.prize_location\n",
    "            action_message = self.select_action(eps)\n",
    "            # Inner loop for receiver\n",
    "            reward = self.receiver.start_learning(action_message, learning_rate, eps)\n",
    "            # No future reward and state change because it does not make sense. The state of sender is random (prize location), nothing to do with its action. Absorbing state\n",
    "            self.Q[self.current_state][action_message] = (1 - learning_rate) * self.Q[self.current_state][action_message] + learning_rate * reward\n",
    "            learning_rate -= (0.9 - 0.01) / N_episodes\n",
    "    \n",
    "    def test(self, N_episodes):\n",
    "        received_reward = 0\n",
    "        for i in range(N_episodes):\n",
    "            self.grid.restart()\n",
    "            self.current_state = self.grid.prize_location\n",
    "            action_message = self.select_action(0)\n",
    "            # Inner loop for receiver, get the dicounted reward\n",
    "            reward, receiver_discounted_reward = self.receiver.test(action_message)\n",
    "            received_reward += receiver_discounted_reward\n",
    "            \n",
    "        return received_reward / N_episodes\n",
    "\n",
    "    def select_action(self, eps):\n",
    "        # Eps: probability to explore\n",
    "        if np.random.uniform(0, 1) < eps:\n",
    "            return np.random.randint(self.num_symbols)\n",
    "        else:\n",
    "            # random tie breaking. Useful for eps small\n",
    "            return np.random.choice(np.flatnonzero(self.Q[self.current_state] == self.Q[self.current_state].max()))"
   ]
  },
  {
   "cell_type": "code",
   "execution_count": 8,
   "metadata": {},
   "outputs": [
    {
     "ename": "KeyboardInterrupt",
     "evalue": "",
     "output_type": "error",
     "traceback": [
      "\u001b[1;31m---------------------------------------------------------------------------\u001b[0m",
      "\u001b[1;31mKeyboardInterrupt\u001b[0m                         Traceback (most recent call last)",
      "\u001b[1;32mc:\\Users\\KandaMaya\\Documents\\University\\4A\\CS486\\A4\\q2.ipynb Cell 31\u001b[0m in \u001b[0;36m<cell line: 2>\u001b[1;34m()\u001b[0m\n\u001b[0;32m      <a href='vscode-notebook-cell:/c%3A/Users/KandaMaya/Documents/University/4A/CS486/A4/q2.ipynb#ch0000030?line=0'>1</a>\u001b[0m s \u001b[39m=\u001b[39m Sender(Grid(FOUR_ROOM), \u001b[39m4\u001b[39m)\n\u001b[1;32m----> <a href='vscode-notebook-cell:/c%3A/Users/KandaMaya/Documents/University/4A/CS486/A4/q2.ipynb#ch0000030?line=1'>2</a>\u001b[0m s\u001b[39m.\u001b[39;49mstart_learning(\u001b[39m0.1\u001b[39;49m, \u001b[39m100000\u001b[39;49m)\n\u001b[0;32m      <a href='vscode-notebook-cell:/c%3A/Users/KandaMaya/Documents/University/4A/CS486/A4/q2.ipynb#ch0000030?line=2'>3</a>\u001b[0m s\u001b[39m.\u001b[39mreceiver\u001b[39m.\u001b[39mprint_action()\n",
      "\u001b[1;32mc:\\Users\\KandaMaya\\Documents\\University\\4A\\CS486\\A4\\q2.ipynb Cell 31\u001b[0m in \u001b[0;36mSender.start_learning\u001b[1;34m(self, eps, N_episodes)\u001b[0m\n\u001b[0;32m     <a href='vscode-notebook-cell:/c%3A/Users/KandaMaya/Documents/University/4A/CS486/A4/q2.ipynb#ch0000030?line=74'>75</a>\u001b[0m \u001b[39mself\u001b[39m\u001b[39m.\u001b[39mgrid\u001b[39m.\u001b[39mrestart()\n\u001b[0;32m     <a href='vscode-notebook-cell:/c%3A/Users/KandaMaya/Documents/University/4A/CS486/A4/q2.ipynb#ch0000030?line=75'>76</a>\u001b[0m \u001b[39mself\u001b[39m\u001b[39m.\u001b[39mcurrent_state \u001b[39m=\u001b[39m \u001b[39mself\u001b[39m\u001b[39m.\u001b[39mgrid\u001b[39m.\u001b[39mprize_location\n\u001b[1;32m---> <a href='vscode-notebook-cell:/c%3A/Users/KandaMaya/Documents/University/4A/CS486/A4/q2.ipynb#ch0000030?line=76'>77</a>\u001b[0m action_message \u001b[39m=\u001b[39m \u001b[39mself\u001b[39;49m\u001b[39m.\u001b[39;49mselect_action(eps)\n\u001b[0;32m     <a href='vscode-notebook-cell:/c%3A/Users/KandaMaya/Documents/University/4A/CS486/A4/q2.ipynb#ch0000030?line=77'>78</a>\u001b[0m \u001b[39m# Inner loop for receiver\u001b[39;00m\n\u001b[0;32m     <a href='vscode-notebook-cell:/c%3A/Users/KandaMaya/Documents/University/4A/CS486/A4/q2.ipynb#ch0000030?line=78'>79</a>\u001b[0m reward \u001b[39m=\u001b[39m \u001b[39mself\u001b[39m\u001b[39m.\u001b[39mreceiver\u001b[39m.\u001b[39mstart_learning(action_message, learning_rate, eps)\n",
      "\u001b[1;32mc:\\Users\\KandaMaya\\Documents\\University\\4A\\CS486\\A4\\q2.ipynb Cell 31\u001b[0m in \u001b[0;36mSender.select_action\u001b[1;34m(self, eps)\u001b[0m\n\u001b[0;32m     <a href='vscode-notebook-cell:/c%3A/Users/KandaMaya/Documents/University/4A/CS486/A4/q2.ipynb#ch0000030?line=98'>99</a>\u001b[0m     \u001b[39mreturn\u001b[39;00m np\u001b[39m.\u001b[39mrandom\u001b[39m.\u001b[39mrandint(\u001b[39mself\u001b[39m\u001b[39m.\u001b[39mnum_symbols)\n\u001b[0;32m    <a href='vscode-notebook-cell:/c%3A/Users/KandaMaya/Documents/University/4A/CS486/A4/q2.ipynb#ch0000030?line=99'>100</a>\u001b[0m \u001b[39melse\u001b[39;00m:\n\u001b[0;32m    <a href='vscode-notebook-cell:/c%3A/Users/KandaMaya/Documents/University/4A/CS486/A4/q2.ipynb#ch0000030?line=100'>101</a>\u001b[0m     \u001b[39m# random tie breaking. Useful for eps small\u001b[39;00m\n\u001b[1;32m--> <a href='vscode-notebook-cell:/c%3A/Users/KandaMaya/Documents/University/4A/CS486/A4/q2.ipynb#ch0000030?line=101'>102</a>\u001b[0m     \u001b[39mreturn\u001b[39;00m np\u001b[39m.\u001b[39;49mrandom\u001b[39m.\u001b[39;49mchoice(np\u001b[39m.\u001b[39;49mflatnonzero(\u001b[39mself\u001b[39;49m\u001b[39m.\u001b[39;49mQ[\u001b[39mself\u001b[39;49m\u001b[39m.\u001b[39;49mcurrent_state] \u001b[39m==\u001b[39;49m \u001b[39mself\u001b[39;49m\u001b[39m.\u001b[39;49mQ[\u001b[39mself\u001b[39;49m\u001b[39m.\u001b[39;49mcurrent_state]\u001b[39m.\u001b[39;49mmax()))\n",
      "\u001b[1;31mKeyboardInterrupt\u001b[0m: "
     ]
    }
   ],
   "source": [
    "s = Sender(Grid(FOUR_ROOM), 4)\n",
    "s.start_learning(0.1, 100000)\n",
    "s.receiver.print_action()"
   ]
  },
  {
   "cell_type": "code",
   "execution_count": null,
   "metadata": {},
   "outputs": [
    {
     "name": "stdout",
     "output_type": "stream",
     "text": [
      "[[0 0 0 3 3]\n",
      " [0 0 3 3 3]\n",
      " [0 0 0 0 0]\n",
      " [1 1 1 2 2]\n",
      " [1 1 0 2 2]]\n"
     ]
    }
   ],
   "source": [
    "print(np.argmax(s.Q, axis=2))"
   ]
  },
  {
   "cell_type": "code",
   "execution_count": 9,
   "metadata": {},
   "outputs": [
    {
     "data": {
      "text/plain": [
       "0.2907302463849985"
      ]
     },
     "execution_count": 9,
     "metadata": {},
     "output_type": "execute_result"
    }
   ],
   "source": [
    "s2 = Sender(Grid(EMPTY), 1)\n",
    "s2.start_learning(0.1, 1000000)\n",
    "s2.test(1000)"
   ]
  },
  {
   "cell_type": "code",
   "execution_count": null,
   "metadata": {},
   "outputs": [],
   "source": []
  }
 ],
 "metadata": {
  "kernelspec": {
   "display_name": "Python 3.10.4 64-bit",
   "language": "python",
   "name": "python3"
  },
  "language_info": {
   "codemirror_mode": {
    "name": "ipython",
    "version": 3
   },
   "file_extension": ".py",
   "mimetype": "text/x-python",
   "name": "python",
   "nbconvert_exporter": "python",
   "pygments_lexer": "ipython3",
   "version": "3.10.4"
  },
  "orig_nbformat": 4,
  "vscode": {
   "interpreter": {
    "hash": "1f8e04c1004ae0e48c4c128aee02bb34a41f967cffe60616a1dbeccdbed98bf0"
   }
  }
 },
 "nbformat": 4,
 "nbformat_minor": 2
}
